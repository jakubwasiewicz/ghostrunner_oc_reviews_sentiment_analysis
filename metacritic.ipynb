{
 "cells": [
  {
   "cell_type": "markdown",
   "metadata": {},
   "source": [
    "# VADER Sentiment analysis of Ghostrunner reviews on Opencritic"
   ]
  },
  {
   "cell_type": "markdown",
   "metadata": {},
   "source": [
    "## Introduction:\n",
    "\n",
    "In today's ever-evolving world of digital entertainment, the video game industry stands as a vibrant and dynamic landscape, captivating players with immersive experiences, rich narratives, and breathtaking graphics. One such game that has garnered substantial attention within the gaming community is \"Ghostrunner.\" Released in [2020; One More Level], Ghostrunner blends elements of futuristic dystopia, parkour-style action, and cybernetic enhancements to deliver an adrenaline-pumping gaming adventure. As with any high-profile release, the reception of Ghostrunner has been a topic of fervent discussion among gamers and critics alike. Understanding the sentiment surrounding this game is not merely a matter of curiosity; it is a valuable exercise in gauging the success, appeal, and impact of modern video game titles. In this sentiment analysis, I delve into the world of Ghostrunner's reviews, employing advanced text analysis technique to uncover the collective sentiments expressed by players and reviewers.\n",
    "\n",
    "VADER (Valence Aware Dictionary and sEntiment Reasoner) is a lexicon and rule-based sentiment analysis tool specifically designed for social media text. It is a popular and user-friendly approach for determining the sentiment of a piece of text, such as a tweet or a short social media post. VADER is widely used because of its ability to handle the nuances and complexities of sentiment analysis in informal and context-rich text.\n",
    "\n",
    "VADER relies on a predefined lexicon (a list of words) that assigns sentiment scores to words. Each word in the lexicon is assigned a polarity score, indicating whether it is positive, negative, or neutral. Additionally, words are given intensity scores to account for the strength of the sentiment.\n",
    "\n",
    "## Data:\n",
    "\n",
    "The material for analysis was obtained using webscraping from the Opencritics (https://opencritic.com). \n",
    "\n",
    "## To do:\n",
    "1. Reviews web-scrapping.\n",
    "2. Compute sentiment polarity scores.\n",
    "3. Check differences in intensivity (positive/negative polarity scores):\\\n",
    "**Are the reviews for Ghostrunner on Opencritic more positive or negative?**\n",
    "4. Create a word map with the most frequently repeated words in reviews."
   ]
  },
  {
   "cell_type": "code",
   "execution_count": 171,
   "metadata": {},
   "outputs": [],
   "source": [
    "#loading packages\n",
    "##webscrapping\n",
    "import requests\n",
    "from bs4 import BeautifulSoup\n",
    "##nlp\n",
    "from nltk.sentiment.vader import SentimentIntensityAnalyzer\n",
    "###nltk.download() # be sure u have downloaded vader_lexicon from nltk_data\n",
    "sia = SentimentIntensityAnalyzer()\n",
    "from wordcloud import WordCloud, STOPWORDS\n",
    "from wordcloud import WordCloud, STOPWORDS\n",
    "##analysis and visualizations\n",
    "import pandas as pd\n",
    "from scipy import stats\n",
    "import plotly.graph_objects as go\n",
    "import matplotlib.pyplot as plt\n",
    "import numpy as np"
   ]
  },
  {
   "cell_type": "code",
   "execution_count": 172,
   "metadata": {},
   "outputs": [],
   "source": [
    "user_agent = {'User-agent': 'Safari/18615.3.12.11.2'}\n",
    "reviews_all = {'review':[]}\n",
    "list_of_pages = [1,2,3,4,5,6]\n",
    "\n",
    "\n",
    "for page in list_of_pages:\n",
    "    url = f'https://opencritic.com/game/10172/ghostrunner/reviews?page={page}' #url for opencritic\n",
    "    response = requests.get(url, headers = user_agent)\n",
    "    soup = BeautifulSoup(response.text, 'html')\n",
    "    reviews = soup.find_all('p', class_ = 'mb-0 wspw') #extracting raw reviews from web\n",
    "    for rev in reviews:\n",
    "        reviews_all['review'].append(rev.text)\n",
    "\n",
    "data_words = pd.DataFrame(reviews_all) #saving as dataframe for sentiment analysis and later for word cloud"
   ]
  },
  {
   "cell_type": "code",
   "execution_count": 173,
   "metadata": {},
   "outputs": [],
   "source": [
    "vader_dict = {}\n",
    "for i, row in data_words.iterrows():\n",
    "    text = row['review']\n",
    "    vader_dict[text] = sia.polarity_scores(text) #computing VADER polarity scores"
   ]
  },
  {
   "cell_type": "markdown",
   "metadata": {},
   "source": [
    "**Table 1**. Text reviews and its VADER polarity scores (N=108)"
   ]
  },
  {
   "cell_type": "code",
   "execution_count": 174,
   "metadata": {},
   "outputs": [
    {
     "data": {
      "text/html": [
       "<div>\n",
       "<style scoped>\n",
       "    .dataframe tbody tr th:only-of-type {\n",
       "        vertical-align: middle;\n",
       "    }\n",
       "\n",
       "    .dataframe tbody tr th {\n",
       "        vertical-align: top;\n",
       "    }\n",
       "\n",
       "    .dataframe thead th {\n",
       "        text-align: right;\n",
       "    }\n",
       "</style>\n",
       "<table border=\"1\" class=\"dataframe\">\n",
       "  <thead>\n",
       "    <tr style=\"text-align: right;\">\n",
       "      <th></th>\n",
       "      <th>neg</th>\n",
       "      <th>neu</th>\n",
       "      <th>pos</th>\n",
       "      <th>compound</th>\n",
       "    </tr>\n",
       "  </thead>\n",
       "  <tbody>\n",
       "    <tr>\n",
       "      <th>Incredibly tough but perfectly fair, Ghostrunner cuts the cybernetically enhanced mustard.</th>\n",
       "      <td>0.206</td>\n",
       "      <td>0.344</td>\n",
       "      <td>0.450</td>\n",
       "      <td>0.7875</td>\n",
       "    </tr>\n",
       "    <tr>\n",
       "      <th>Ghostrunner never loses sight of being about speed and agility, making it a constant joy to play.</th>\n",
       "      <td>0.000</td>\n",
       "      <td>0.614</td>\n",
       "      <td>0.386</td>\n",
       "      <td>0.7999</td>\n",
       "    </tr>\n",
       "    <tr>\n",
       "      <th>Ghostrunner's lightning-fast gameplay makes for a short-lived but memorable action game with some incredible moments.</th>\n",
       "      <td>0.000</td>\n",
       "      <td>1.000</td>\n",
       "      <td>0.000</td>\n",
       "      <td>0.0000</td>\n",
       "    </tr>\n",
       "    <tr>\n",
       "      <th>Since it’s not malicious we’re not minded to mark the game down just for being difficult, especially as the euphoria when you do get things right – especially a long chain of parkour moves that ends in a successful kill – is so wonderfully rewarding. It may be lower budget but Ghostrunner is a better game than Mirror’s Edge ever was, so if you’re frustrated at a certain other cyberpunk game’s delay then you should really consider this alternative – even if you might end up getting frustrated with it for a different reason.</th>\n",
       "      <td>0.174</td>\n",
       "      <td>0.674</td>\n",
       "      <td>0.151</td>\n",
       "      <td>-0.5459</td>\n",
       "    </tr>\n",
       "    <tr>\n",
       "      <th>There’s something extra special about hurtling through space from one wall or platform to the next in first person. Compared to a 2D platformer, the motion seems faster, the timing is tighter, and the penalty of missing a jump — that feeling of the ground rushing toward you as you fall — is way more intense. Ghostrunner is a perfect example of what happens when a developer works within the limitations of an underappreciated genre and pulls the absolute best from it.</th>\n",
       "      <td>0.085</td>\n",
       "      <td>0.762</td>\n",
       "      <td>0.153</td>\n",
       "      <td>0.7264</td>\n",
       "    </tr>\n",
       "    <tr>\n",
       "      <th>...</th>\n",
       "      <td>...</td>\n",
       "      <td>...</td>\n",
       "      <td>...</td>\n",
       "      <td>...</td>\n",
       "    </tr>\n",
       "    <tr>\n",
       "      <th>Ghostrunner’s trial-and-error gameplay caters to the hardcore community but leaves the rest a little frustrated. There’s a fun experience hidden deep within the game, but to get there you have to, well, get good!</th>\n",
       "      <td>0.097</td>\n",
       "      <td>0.651</td>\n",
       "      <td>0.252</td>\n",
       "      <td>0.7708</td>\n",
       "    </tr>\n",
       "    <tr>\n",
       "      <th>All-in-all, I had so much fun with Ghostrunner. It’s a great game for those who love being challenged by video games. If you want to have a relaxing time and game casually, however, this isn’t for you. This is one of those games where you’ll have to put in the effort to succeed. It’s a thrilling, daunting experience, which provides satisfaction once you’re done with it. It’s not a perfect game. It has a lot of flaws, but it’s also good enough for what it’s trying to be.</th>\n",
       "      <td>0.034</td>\n",
       "      <td>0.735</td>\n",
       "      <td>0.231</td>\n",
       "      <td>0.9412</td>\n",
       "    </tr>\n",
       "    <tr>\n",
       "      <th>Not only is Ghostrunner one of this year’s best games, but it’s also some of the most satisfying gameplay I’ve experienced in years.</th>\n",
       "      <td>0.000</td>\n",
       "      <td>0.749</td>\n",
       "      <td>0.251</td>\n",
       "      <td>0.7929</td>\n",
       "    </tr>\n",
       "    <tr>\n",
       "      <th>If you want a surprise entry in the action genre, look no further than the fast and frenetic Ghostrunner. Granted, its difficulty curve will frustrate you not unlike a Souls-like game, but once you get to the rhythm and groove of it, you'll ace it and aim for a better run.</th>\n",
       "      <td>0.098</td>\n",
       "      <td>0.754</td>\n",
       "      <td>0.148</td>\n",
       "      <td>0.4118</td>\n",
       "    </tr>\n",
       "    <tr>\n",
       "      <th>In a time where nearly every game demands your full attention, Ghostrunner actually deserves it.</th>\n",
       "      <td>0.000</td>\n",
       "      <td>1.000</td>\n",
       "      <td>0.000</td>\n",
       "      <td>0.0000</td>\n",
       "    </tr>\n",
       "  </tbody>\n",
       "</table>\n",
       "<p>109 rows × 4 columns</p>\n",
       "</div>"
      ],
      "text/plain": [
       "                                                      neg    neu    pos   \n",
       "Incredibly tough but perfectly fair, Ghostrunne...  0.206  0.344  0.450  \\\n",
       "Ghostrunner never loses sight of being about sp...  0.000  0.614  0.386   \n",
       "Ghostrunner's lightning-fast gameplay makes for...  0.000  1.000  0.000   \n",
       "Since it’s not malicious we’re not minded to ma...  0.174  0.674  0.151   \n",
       "There’s something extra special about hurtling ...  0.085  0.762  0.153   \n",
       "...                                                   ...    ...    ...   \n",
       "Ghostrunner’s trial-and-error gameplay caters t...  0.097  0.651  0.252   \n",
       "All-in-all, I had so much fun with Ghostrunner....  0.034  0.735  0.231   \n",
       "Not only is Ghostrunner one of this year’s best...  0.000  0.749  0.251   \n",
       "If you want a surprise entry in the action genr...  0.098  0.754  0.148   \n",
       "In a time where nearly every game demands your ...  0.000  1.000  0.000   \n",
       "\n",
       "                                                    compound  \n",
       "Incredibly tough but perfectly fair, Ghostrunne...    0.7875  \n",
       "Ghostrunner never loses sight of being about sp...    0.7999  \n",
       "Ghostrunner's lightning-fast gameplay makes for...    0.0000  \n",
       "Since it’s not malicious we’re not minded to ma...   -0.5459  \n",
       "There’s something extra special about hurtling ...    0.7264  \n",
       "...                                                      ...  \n",
       "Ghostrunner’s trial-and-error gameplay caters t...    0.7708  \n",
       "All-in-all, I had so much fun with Ghostrunner....    0.9412  \n",
       "Not only is Ghostrunner one of this year’s best...    0.7929  \n",
       "If you want a surprise entry in the action genr...    0.4118  \n",
       "In a time where nearly every game demands your ...    0.0000  \n",
       "\n",
       "[109 rows x 4 columns]"
      ]
     },
     "execution_count": 174,
     "metadata": {},
     "output_type": "execute_result"
    }
   ],
   "source": [
    "df = pd.DataFrame(vader_dict).T\n",
    "df"
   ]
  },
  {
   "cell_type": "code",
   "execution_count": 175,
   "metadata": {},
   "outputs": [],
   "source": [
    "t_test = stats.ttest_rel(df['neg'], df['pos'])\n",
    "#print(f'The dependent T-student test shows that there is a signifficance difference between\\nVADER positive and negative sentiment polarity of Ghostrunner reveiews (t = {round(t_test.statistic, 3)}, p<0.001).\\nMean compound of sentiment polarity for reviews was {round(df.compound.mean(),2)}[0-1] with the standard deviation of {round(df.compound.std(),3)}.')"
   ]
  },
  {
   "cell_type": "markdown",
   "metadata": {},
   "source": [
    "The dependent T-student test shows that there is a signifficance difference between\n",
    "VADER positive and negative sentiment polarity of Ghostrunner reveiews (t = -7.729, p<0.001).\n",
    "Mean compound of sentiment polarity for reviews was 0.44[0-1] with the standard deviation of 0.568."
   ]
  },
  {
   "cell_type": "code",
   "execution_count": 176,
   "metadata": {},
   "outputs": [
    {
     "data": {
      "application/vnd.plotly.v1+json": {
       "config": {
        "plotlyServerURL": "https://plot.ly"
       },
       "data": [
        {
         "boxmean": true,
         "boxpoints": "all",
         "marker": {
          "color": "forestgreen"
         },
         "name": "Positive",
         "type": "box",
         "y": [
          0.45,
          0.386,
          0,
          0.151,
          0.153,
          0.331,
          0.203,
          0.165,
          0.242,
          0.253,
          0.118,
          0.054,
          0.323,
          0.185,
          0.181,
          0.233,
          0.157,
          0.188,
          0.062,
          0.199,
          0.202,
          0.04,
          0.239,
          0.064,
          0.047,
          0.141,
          0.09,
          0.011,
          0.161,
          0.217,
          0.15,
          0.149,
          0.206,
          0.241,
          0.151,
          0.206,
          0,
          0.177,
          0.332,
          0.164,
          0.201,
          0.149,
          0.356,
          0.09,
          0.263,
          0.311,
          0.206,
          0.377,
          0.213,
          0.343,
          0.247,
          0.251,
          0.087,
          0.265,
          0.235,
          0.204,
          0.118,
          0.261,
          0.333,
          0.243,
          0.119,
          0.56,
          0.097,
          0.222,
          0,
          0.228,
          0.099,
          0.283,
          0.1,
          0.391,
          0.23,
          0.157,
          0.061,
          0.172,
          0.208,
          0.222,
          0.103,
          0.111,
          0.487,
          0.059,
          0.145,
          0.301,
          0,
          0.225,
          0.356,
          0.181,
          0.075,
          0.113,
          0.305,
          0.172,
          0.064,
          0.166,
          0.154,
          0.128,
          0.261,
          0.088,
          0.215,
          0.158,
          0.295,
          0.358,
          0.046,
          0.2,
          0.095,
          0.203,
          0.252,
          0.231,
          0.251,
          0.148,
          0
         ]
        },
        {
         "boxmean": true,
         "boxpoints": "all",
         "marker": {
          "color": "#d62728"
         },
         "name": "Negative",
         "type": "box",
         "y": [
          0.206,
          0,
          0,
          0.174,
          0.085,
          0.153,
          0.059,
          0.064,
          0.093,
          0.08,
          0.065,
          0.071,
          0,
          0.049,
          0.205,
          0.053,
          0,
          0,
          0.273,
          0.092,
          0.029,
          0.125,
          0.033,
          0.151,
          0.238,
          0.061,
          0.084,
          0.077,
          0,
          0.059,
          0,
          0.233,
          0.493,
          0.11,
          0,
          0,
          0.156,
          0,
          0.294,
          0.077,
          0.18,
          0.039,
          0,
          0.214,
          0,
          0,
          0,
          0,
          0,
          0.118,
          0,
          0,
          0.105,
          0.058,
          0,
          0.196,
          0.057,
          0.116,
          0,
          0.109,
          0.075,
          0,
          0.176,
          0.142,
          0.179,
          0,
          0.181,
          0.048,
          0.298,
          0,
          0.063,
          0.114,
          0,
          0.088,
          0,
          0,
          0.034,
          0.094,
          0,
          0.068,
          0.06,
          0.016,
          0,
          0.077,
          0.041,
          0.114,
          0.108,
          0,
          0.118,
          0.103,
          0.233,
          0.149,
          0.118,
          0,
          0,
          0.062,
          0.114,
          0.02,
          0.113,
          0.115,
          0.167,
          0,
          0.033,
          0.087,
          0.097,
          0.034,
          0,
          0.098,
          0
         ]
        }
       ],
       "layout": {
        "annotations": [
         {
          "showarrow": false,
          "text": "t=-7.729, p<.001",
          "x": 0.009,
          "xref": "paper",
          "y": 1.08,
          "yref": "paper"
         }
        ],
        "font": {
         "family": "Arial"
        },
        "height": 400,
        "margin": {
         "b": 60,
         "l": 80,
         "r": 40,
         "t": 40
        },
        "showlegend": false,
        "template": {
         "data": {
          "bar": [
           {
            "error_x": {
             "color": "rgb(36,36,36)"
            },
            "error_y": {
             "color": "rgb(36,36,36)"
            },
            "marker": {
             "line": {
              "color": "white",
              "width": 0.5
             },
             "pattern": {
              "fillmode": "overlay",
              "size": 10,
              "solidity": 0.2
             }
            },
            "type": "bar"
           }
          ],
          "barpolar": [
           {
            "marker": {
             "line": {
              "color": "white",
              "width": 0.5
             },
             "pattern": {
              "fillmode": "overlay",
              "size": 10,
              "solidity": 0.2
             }
            },
            "type": "barpolar"
           }
          ],
          "carpet": [
           {
            "aaxis": {
             "endlinecolor": "rgb(36,36,36)",
             "gridcolor": "white",
             "linecolor": "white",
             "minorgridcolor": "white",
             "startlinecolor": "rgb(36,36,36)"
            },
            "baxis": {
             "endlinecolor": "rgb(36,36,36)",
             "gridcolor": "white",
             "linecolor": "white",
             "minorgridcolor": "white",
             "startlinecolor": "rgb(36,36,36)"
            },
            "type": "carpet"
           }
          ],
          "choropleth": [
           {
            "colorbar": {
             "outlinewidth": 1,
             "tickcolor": "rgb(36,36,36)",
             "ticks": "outside"
            },
            "type": "choropleth"
           }
          ],
          "contour": [
           {
            "colorbar": {
             "outlinewidth": 1,
             "tickcolor": "rgb(36,36,36)",
             "ticks": "outside"
            },
            "colorscale": [
             [
              0,
              "#440154"
             ],
             [
              0.1111111111111111,
              "#482878"
             ],
             [
              0.2222222222222222,
              "#3e4989"
             ],
             [
              0.3333333333333333,
              "#31688e"
             ],
             [
              0.4444444444444444,
              "#26828e"
             ],
             [
              0.5555555555555556,
              "#1f9e89"
             ],
             [
              0.6666666666666666,
              "#35b779"
             ],
             [
              0.7777777777777778,
              "#6ece58"
             ],
             [
              0.8888888888888888,
              "#b5de2b"
             ],
             [
              1,
              "#fde725"
             ]
            ],
            "type": "contour"
           }
          ],
          "contourcarpet": [
           {
            "colorbar": {
             "outlinewidth": 1,
             "tickcolor": "rgb(36,36,36)",
             "ticks": "outside"
            },
            "type": "contourcarpet"
           }
          ],
          "heatmap": [
           {
            "colorbar": {
             "outlinewidth": 1,
             "tickcolor": "rgb(36,36,36)",
             "ticks": "outside"
            },
            "colorscale": [
             [
              0,
              "#440154"
             ],
             [
              0.1111111111111111,
              "#482878"
             ],
             [
              0.2222222222222222,
              "#3e4989"
             ],
             [
              0.3333333333333333,
              "#31688e"
             ],
             [
              0.4444444444444444,
              "#26828e"
             ],
             [
              0.5555555555555556,
              "#1f9e89"
             ],
             [
              0.6666666666666666,
              "#35b779"
             ],
             [
              0.7777777777777778,
              "#6ece58"
             ],
             [
              0.8888888888888888,
              "#b5de2b"
             ],
             [
              1,
              "#fde725"
             ]
            ],
            "type": "heatmap"
           }
          ],
          "heatmapgl": [
           {
            "colorbar": {
             "outlinewidth": 1,
             "tickcolor": "rgb(36,36,36)",
             "ticks": "outside"
            },
            "colorscale": [
             [
              0,
              "#440154"
             ],
             [
              0.1111111111111111,
              "#482878"
             ],
             [
              0.2222222222222222,
              "#3e4989"
             ],
             [
              0.3333333333333333,
              "#31688e"
             ],
             [
              0.4444444444444444,
              "#26828e"
             ],
             [
              0.5555555555555556,
              "#1f9e89"
             ],
             [
              0.6666666666666666,
              "#35b779"
             ],
             [
              0.7777777777777778,
              "#6ece58"
             ],
             [
              0.8888888888888888,
              "#b5de2b"
             ],
             [
              1,
              "#fde725"
             ]
            ],
            "type": "heatmapgl"
           }
          ],
          "histogram": [
           {
            "marker": {
             "line": {
              "color": "white",
              "width": 0.6
             }
            },
            "type": "histogram"
           }
          ],
          "histogram2d": [
           {
            "colorbar": {
             "outlinewidth": 1,
             "tickcolor": "rgb(36,36,36)",
             "ticks": "outside"
            },
            "colorscale": [
             [
              0,
              "#440154"
             ],
             [
              0.1111111111111111,
              "#482878"
             ],
             [
              0.2222222222222222,
              "#3e4989"
             ],
             [
              0.3333333333333333,
              "#31688e"
             ],
             [
              0.4444444444444444,
              "#26828e"
             ],
             [
              0.5555555555555556,
              "#1f9e89"
             ],
             [
              0.6666666666666666,
              "#35b779"
             ],
             [
              0.7777777777777778,
              "#6ece58"
             ],
             [
              0.8888888888888888,
              "#b5de2b"
             ],
             [
              1,
              "#fde725"
             ]
            ],
            "type": "histogram2d"
           }
          ],
          "histogram2dcontour": [
           {
            "colorbar": {
             "outlinewidth": 1,
             "tickcolor": "rgb(36,36,36)",
             "ticks": "outside"
            },
            "colorscale": [
             [
              0,
              "#440154"
             ],
             [
              0.1111111111111111,
              "#482878"
             ],
             [
              0.2222222222222222,
              "#3e4989"
             ],
             [
              0.3333333333333333,
              "#31688e"
             ],
             [
              0.4444444444444444,
              "#26828e"
             ],
             [
              0.5555555555555556,
              "#1f9e89"
             ],
             [
              0.6666666666666666,
              "#35b779"
             ],
             [
              0.7777777777777778,
              "#6ece58"
             ],
             [
              0.8888888888888888,
              "#b5de2b"
             ],
             [
              1,
              "#fde725"
             ]
            ],
            "type": "histogram2dcontour"
           }
          ],
          "mesh3d": [
           {
            "colorbar": {
             "outlinewidth": 1,
             "tickcolor": "rgb(36,36,36)",
             "ticks": "outside"
            },
            "type": "mesh3d"
           }
          ],
          "parcoords": [
           {
            "line": {
             "colorbar": {
              "outlinewidth": 1,
              "tickcolor": "rgb(36,36,36)",
              "ticks": "outside"
             }
            },
            "type": "parcoords"
           }
          ],
          "pie": [
           {
            "automargin": true,
            "type": "pie"
           }
          ],
          "scatter": [
           {
            "fillpattern": {
             "fillmode": "overlay",
             "size": 10,
             "solidity": 0.2
            },
            "type": "scatter"
           }
          ],
          "scatter3d": [
           {
            "line": {
             "colorbar": {
              "outlinewidth": 1,
              "tickcolor": "rgb(36,36,36)",
              "ticks": "outside"
             }
            },
            "marker": {
             "colorbar": {
              "outlinewidth": 1,
              "tickcolor": "rgb(36,36,36)",
              "ticks": "outside"
             }
            },
            "type": "scatter3d"
           }
          ],
          "scattercarpet": [
           {
            "marker": {
             "colorbar": {
              "outlinewidth": 1,
              "tickcolor": "rgb(36,36,36)",
              "ticks": "outside"
             }
            },
            "type": "scattercarpet"
           }
          ],
          "scattergeo": [
           {
            "marker": {
             "colorbar": {
              "outlinewidth": 1,
              "tickcolor": "rgb(36,36,36)",
              "ticks": "outside"
             }
            },
            "type": "scattergeo"
           }
          ],
          "scattergl": [
           {
            "marker": {
             "colorbar": {
              "outlinewidth": 1,
              "tickcolor": "rgb(36,36,36)",
              "ticks": "outside"
             }
            },
            "type": "scattergl"
           }
          ],
          "scattermapbox": [
           {
            "marker": {
             "colorbar": {
              "outlinewidth": 1,
              "tickcolor": "rgb(36,36,36)",
              "ticks": "outside"
             }
            },
            "type": "scattermapbox"
           }
          ],
          "scatterpolar": [
           {
            "marker": {
             "colorbar": {
              "outlinewidth": 1,
              "tickcolor": "rgb(36,36,36)",
              "ticks": "outside"
             }
            },
            "type": "scatterpolar"
           }
          ],
          "scatterpolargl": [
           {
            "marker": {
             "colorbar": {
              "outlinewidth": 1,
              "tickcolor": "rgb(36,36,36)",
              "ticks": "outside"
             }
            },
            "type": "scatterpolargl"
           }
          ],
          "scatterternary": [
           {
            "marker": {
             "colorbar": {
              "outlinewidth": 1,
              "tickcolor": "rgb(36,36,36)",
              "ticks": "outside"
             }
            },
            "type": "scatterternary"
           }
          ],
          "surface": [
           {
            "colorbar": {
             "outlinewidth": 1,
             "tickcolor": "rgb(36,36,36)",
             "ticks": "outside"
            },
            "colorscale": [
             [
              0,
              "#440154"
             ],
             [
              0.1111111111111111,
              "#482878"
             ],
             [
              0.2222222222222222,
              "#3e4989"
             ],
             [
              0.3333333333333333,
              "#31688e"
             ],
             [
              0.4444444444444444,
              "#26828e"
             ],
             [
              0.5555555555555556,
              "#1f9e89"
             ],
             [
              0.6666666666666666,
              "#35b779"
             ],
             [
              0.7777777777777778,
              "#6ece58"
             ],
             [
              0.8888888888888888,
              "#b5de2b"
             ],
             [
              1,
              "#fde725"
             ]
            ],
            "type": "surface"
           }
          ],
          "table": [
           {
            "cells": {
             "fill": {
              "color": "rgb(237,237,237)"
             },
             "line": {
              "color": "white"
             }
            },
            "header": {
             "fill": {
              "color": "rgb(217,217,217)"
             },
             "line": {
              "color": "white"
             }
            },
            "type": "table"
           }
          ]
         },
         "layout": {
          "annotationdefaults": {
           "arrowhead": 0,
           "arrowwidth": 1
          },
          "autotypenumbers": "strict",
          "coloraxis": {
           "colorbar": {
            "outlinewidth": 1,
            "tickcolor": "rgb(36,36,36)",
            "ticks": "outside"
           }
          },
          "colorscale": {
           "diverging": [
            [
             0,
             "rgb(103,0,31)"
            ],
            [
             0.1,
             "rgb(178,24,43)"
            ],
            [
             0.2,
             "rgb(214,96,77)"
            ],
            [
             0.3,
             "rgb(244,165,130)"
            ],
            [
             0.4,
             "rgb(253,219,199)"
            ],
            [
             0.5,
             "rgb(247,247,247)"
            ],
            [
             0.6,
             "rgb(209,229,240)"
            ],
            [
             0.7,
             "rgb(146,197,222)"
            ],
            [
             0.8,
             "rgb(67,147,195)"
            ],
            [
             0.9,
             "rgb(33,102,172)"
            ],
            [
             1,
             "rgb(5,48,97)"
            ]
           ],
           "sequential": [
            [
             0,
             "#440154"
            ],
            [
             0.1111111111111111,
             "#482878"
            ],
            [
             0.2222222222222222,
             "#3e4989"
            ],
            [
             0.3333333333333333,
             "#31688e"
            ],
            [
             0.4444444444444444,
             "#26828e"
            ],
            [
             0.5555555555555556,
             "#1f9e89"
            ],
            [
             0.6666666666666666,
             "#35b779"
            ],
            [
             0.7777777777777778,
             "#6ece58"
            ],
            [
             0.8888888888888888,
             "#b5de2b"
            ],
            [
             1,
             "#fde725"
            ]
           ],
           "sequentialminus": [
            [
             0,
             "#440154"
            ],
            [
             0.1111111111111111,
             "#482878"
            ],
            [
             0.2222222222222222,
             "#3e4989"
            ],
            [
             0.3333333333333333,
             "#31688e"
            ],
            [
             0.4444444444444444,
             "#26828e"
            ],
            [
             0.5555555555555556,
             "#1f9e89"
            ],
            [
             0.6666666666666666,
             "#35b779"
            ],
            [
             0.7777777777777778,
             "#6ece58"
            ],
            [
             0.8888888888888888,
             "#b5de2b"
            ],
            [
             1,
             "#fde725"
            ]
           ]
          },
          "colorway": [
           "#1F77B4",
           "#FF7F0E",
           "#2CA02C",
           "#D62728",
           "#9467BD",
           "#8C564B",
           "#E377C2",
           "#7F7F7F",
           "#BCBD22",
           "#17BECF"
          ],
          "font": {
           "color": "rgb(36,36,36)"
          },
          "geo": {
           "bgcolor": "white",
           "lakecolor": "white",
           "landcolor": "white",
           "showlakes": true,
           "showland": true,
           "subunitcolor": "white"
          },
          "hoverlabel": {
           "align": "left"
          },
          "hovermode": "closest",
          "mapbox": {
           "style": "light"
          },
          "paper_bgcolor": "white",
          "plot_bgcolor": "white",
          "polar": {
           "angularaxis": {
            "gridcolor": "rgb(232,232,232)",
            "linecolor": "rgb(36,36,36)",
            "showgrid": false,
            "showline": true,
            "ticks": "outside"
           },
           "bgcolor": "white",
           "radialaxis": {
            "gridcolor": "rgb(232,232,232)",
            "linecolor": "rgb(36,36,36)",
            "showgrid": false,
            "showline": true,
            "ticks": "outside"
           }
          },
          "scene": {
           "xaxis": {
            "backgroundcolor": "white",
            "gridcolor": "rgb(232,232,232)",
            "gridwidth": 2,
            "linecolor": "rgb(36,36,36)",
            "showbackground": true,
            "showgrid": false,
            "showline": true,
            "ticks": "outside",
            "zeroline": false,
            "zerolinecolor": "rgb(36,36,36)"
           },
           "yaxis": {
            "backgroundcolor": "white",
            "gridcolor": "rgb(232,232,232)",
            "gridwidth": 2,
            "linecolor": "rgb(36,36,36)",
            "showbackground": true,
            "showgrid": false,
            "showline": true,
            "ticks": "outside",
            "zeroline": false,
            "zerolinecolor": "rgb(36,36,36)"
           },
           "zaxis": {
            "backgroundcolor": "white",
            "gridcolor": "rgb(232,232,232)",
            "gridwidth": 2,
            "linecolor": "rgb(36,36,36)",
            "showbackground": true,
            "showgrid": false,
            "showline": true,
            "ticks": "outside",
            "zeroline": false,
            "zerolinecolor": "rgb(36,36,36)"
           }
          },
          "shapedefaults": {
           "fillcolor": "black",
           "line": {
            "width": 0
           },
           "opacity": 0.3
          },
          "ternary": {
           "aaxis": {
            "gridcolor": "rgb(232,232,232)",
            "linecolor": "rgb(36,36,36)",
            "showgrid": false,
            "showline": true,
            "ticks": "outside"
           },
           "baxis": {
            "gridcolor": "rgb(232,232,232)",
            "linecolor": "rgb(36,36,36)",
            "showgrid": false,
            "showline": true,
            "ticks": "outside"
           },
           "bgcolor": "white",
           "caxis": {
            "gridcolor": "rgb(232,232,232)",
            "linecolor": "rgb(36,36,36)",
            "showgrid": false,
            "showline": true,
            "ticks": "outside"
           }
          },
          "title": {
           "x": 0.05
          },
          "xaxis": {
           "automargin": true,
           "gridcolor": "rgb(232,232,232)",
           "linecolor": "rgb(36,36,36)",
           "showgrid": false,
           "showline": true,
           "ticks": "outside",
           "title": {
            "standoff": 15
           },
           "zeroline": false,
           "zerolinecolor": "rgb(36,36,36)"
          },
          "yaxis": {
           "automargin": true,
           "gridcolor": "rgb(232,232,232)",
           "linecolor": "rgb(36,36,36)",
           "showgrid": false,
           "showline": true,
           "ticks": "outside",
           "title": {
            "standoff": 15
           },
           "zeroline": false,
           "zerolinecolor": "rgb(36,36,36)"
          }
         }
        },
        "title": {
         "text": ""
        },
        "width": 600,
        "xaxis": {
         "title": {
          "text": "Ghostrunner reviews [OpenCritic]: Sentiment polarity"
         }
        },
        "yaxis": {
         "title": {
          "text": "Score"
         }
        }
       }
      }
     },
     "metadata": {},
     "output_type": "display_data"
    }
   ],
   "source": [
    "#mean chart\n",
    "trace0 = go.Box(\n",
    "    y=df['pos'],\n",
    "    name = 'Positive',\n",
    "    boxmean=True,\n",
    "    marker = dict(\n",
    "        color = 'forestgreen'\n",
    "    )\n",
    ")\n",
    "trace1 = go.Box(\n",
    "    y=df['neg'],\n",
    "    name = 'Negative',\n",
    "    boxmean=True,\n",
    "    marker = dict(\n",
    "        color = '#d62728',\n",
    "    )\n",
    ")\n",
    "data = [trace0, trace1]\n",
    "fig = go.Figure(data=data)\n",
    "fig.update_traces(boxpoints='all')\n",
    "fig.update_layout(title_text='', \n",
    "                  template = 'simple_white',\n",
    "                  xaxis_title=\"Ghostrunner reviews [OpenCritic]: Sentiment polarity\", \n",
    "                  yaxis_title=\"Score\",\n",
    "                  width=600, height=400, \n",
    "                  margin=dict(l=80, r=40, t=40, b=60), \n",
    "                  showlegend = False,\n",
    "                  font_family=\"Arial\")\n",
    "fig.add_annotation(text=\"t=-7.729, p<.001\",\n",
    "                  xref=\"paper\", yref=\"paper\",\n",
    "                  x=0.009, y=1.08, \n",
    "                  showarrow=False)\n",
    "fig.show()"
   ]
  },
  {
   "cell_type": "markdown",
   "metadata": {},
   "source": [
    "**Figure 1**. Plot showing mean differences in positive and negative polarity of Ghostrunner reviews. "
   ]
  },
  {
   "cell_type": "code",
   "execution_count": 177,
   "metadata": {},
   "outputs": [
    {
     "data": {
      "image/png": "[encoded data removed]",
      "text/plain": [
       "<Figure size 640x480 with 1 Axes>"
      ]
     },
     "metadata": {},
     "output_type": "display_data"
    }
   ],
   "source": [
    "python_mask = np.array(PIL.Image.open('paad.png'))\n",
    "\n",
    "wc = WordCloud(stopwords = STOPWORDS, mask = python_mask, \n",
    "               background_color='white', contour_color='grey', min_font_size= 1, max_words=100000).generate(' '.join(data_words['review']))\n",
    "plt.imshow(wc)\n",
    "plt.axis('off')\n",
    "plt.show()"
   ]
  },
  {
   "cell_type": "markdown",
   "metadata": {},
   "source": [
    "88Figure 2**. Word map showing intensity of particular words used in Opencritics Ghostrunner reviews. "
   ]
  },
  {
   "cell_type": "markdown",
   "metadata": {},
   "source": [
    "## Discussion\n",
    "\n",
    "In summary, the analysis of Ghostrunner's reviews on the Opencritics portal indicates that they are, from a lexical perspective, positive. The overall polarity index of words appearing in the reviews suggests the use of words by reviewers that have connotations with positive emotions (mean VADER compound = 0.44). Additionally, the conducted difference test indicated that positive expressions appeared significantly more frequently in the reviews than negative ones. Therefore, the linguistic analysis of the reviews is consistent (in terms of tendency) with the overall ratings that the game received on the Opencritics portal (8/10), Metacritic (81/100), and gry-online.pl (7.4/10)."
   ]
  }
 ],
 "metadata": {
  "kernelspec": {
   "display_name": "Python 3",
   "language": "python",
   "name": "python3"
  },
  "language_info": {
   "codemirror_mode": {
    "name": "ipython",
    "version": 3
   },
   "file_extension": ".py",
   "mimetype": "text/x-python",
   "name": "python",
   "nbconvert_exporter": "python",
   "pygments_lexer": "ipython3",
   "version": "3.10.7"
  },
  "orig_nbformat": 4
 },
 "nbformat": 4,
 "nbformat_minor": 2
}
